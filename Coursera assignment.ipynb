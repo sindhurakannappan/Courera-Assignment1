{
 "cells": [
  {
   "cell_type": "markdown",
   "id": "6f6bff09-a95c-42f9-9a6a-9b7c17119323",
   "metadata": {},
   "source": [
    "# Data Science Notebook\n"
   ]
  },
  {
   "cell_type": "markdown",
   "id": "3702a32c-9bd6-4d9d-aa56-499028e3501d",
   "metadata": {},
   "source": [
    "## Introduction\n",
    "This notebook is designed to demonstrate the basic skills and knowledge required in data science. It includes examples of markdown cells for documentation, code cells for performing calculations, and lists of common languages, libraries, and tools used in the field.\n"
   ]
  },
  {
   "cell_type": "markdown",
   "id": "06f3d628-2519-4d97-b724-587665f47e57",
   "metadata": {},
   "source": [
    "## Data Science Languages\n",
    "- Python\n",
    "- R\n",
    "- SQL\n",
    "- Julia\n",
    "- Scala\n",
    "- Java\n",
    "- C++\n"
   ]
  },
  {
   "cell_type": "markdown",
   "id": "3df4c816-c79c-4a6a-9d50-1d614d7db182",
   "metadata": {},
   "source": [
    "## Data Science Libraries\n",
    "- Pandas\n",
    "- NumPy\n",
    "- Matplotlib\n",
    "- Seaborn\n",
    "- SciPy\n",
    "- Scikit-learn\n",
    "- TensorFlow\n",
    "- Keras\n",
    "- PyTorch\n"
   ]
  },
  {
   "cell_type": "markdown",
   "id": "7c30a4e7-6b09-44d7-9017-e3427019c2e3",
   "metadata": {},
   "source": [
    "## Data Science Tools\n",
    "| Tool          | Description                            |\n",
    "|---------------|----------------------------------------|\n",
    "| Jupyter       | Interactive computing environment      |\n",
    "| RStudio       | Integrated development environment for R |\n",
    "| Apache Spark  | Unified analytics engine               |\n",
    "| Tableau       | Data visualization tool                |\n",
    "| MATLAB        | Numerical computing environment        |\n"
   ]
  },
  {
   "cell_type": "markdown",
   "id": "fd6ec51b-a33a-4897-9a8d-e020ce276e6f",
   "metadata": {},
   "source": [
    "## Arithmetic Expression Examples\n",
    "In this section, we will demonstrate examples of arithmetic expressions in Python, such as multiplication and addition.\n"
   ]
  },
  {
   "cell_type": "code",
   "execution_count": 16,
   "id": "04d38887-1f19-4c02-8b36-fcf2f42209d4",
   "metadata": {},
   "outputs": [
    {
     "data": {
      "text/plain": [
       "(42, 13)"
      ]
     },
     "execution_count": 16,
     "metadata": {},
     "output_type": "execute_result"
    }
   ],
   "source": [
    "result_multiply = 7 * 6\n",
    "result_add = 7 + 6\n",
    "result_multiply, result_add\n"
   ]
  },
  {
   "cell_type": "code",
   "execution_count": 17,
   "id": "18d7cf75-b649-4557-938c-1fed5ee7bb89",
   "metadata": {},
   "outputs": [
    {
     "data": {
      "text/plain": [
       "2.0"
      ]
     },
     "execution_count": 17,
     "metadata": {},
     "output_type": "execute_result"
    }
   ],
   "source": [
    "minutes = 120\n",
    "hours = minutes / 60\n",
    "hours\n"
   ]
  },
  {
   "cell_type": "code",
   "execution_count": 18,
   "id": "cb9cc845-aaee-47a6-bf26-5a43e660b2a4",
   "metadata": {},
   "outputs": [
    {
     "data": {
      "text/plain": [
       "2.0"
      ]
     },
     "execution_count": 18,
     "metadata": {},
     "output_type": "execute_result"
    }
   ],
   "source": [
    "minutes = 120\n",
    "hours = minutes / 60\n",
    "hours\n"
   ]
  },
  {
   "cell_type": "markdown",
   "id": "877a249b-f6c6-4f8b-b695-80180699172b",
   "metadata": {},
   "source": [
    "## Objectives\n",
    "- Demonstrate the use of markdown cells for documentation.\n",
    "- List common data science languages and libraries.\n",
    "- Create a table of common data science tools.\n",
    "- Provide examples of arithmetic expressions in Python.\n",
    "- Practice creating and executing code cells for basic calculations.\n"
   ]
  },
  {
   "cell_type": "markdown",
   "id": "053b6df7-358d-4d0d-a401-502dd7bd4454",
   "metadata": {},
   "source": [
    "## Author\n",
    "Dr.K.Sindhura\n"
   ]
  },
  {
   "cell_type": "code",
   "execution_count": null,
   "id": "de9111ff-9bf5-4701-814d-da22f20db3d0",
   "metadata": {},
   "outputs": [],
   "source": []
  },
  {
   "cell_type": "code",
   "execution_count": null,
   "id": "a50c859b-1eab-4ced-96e0-860db52ba831",
   "metadata": {},
   "outputs": [],
   "source": []
  },
  {
   "cell_type": "code",
   "execution_count": null,
   "id": "6955ae55-14ab-475d-9544-196ef8ccb709",
   "metadata": {},
   "outputs": [],
   "source": []
  }
 ],
 "metadata": {
  "kernelspec": {
   "display_name": "Python 3 (ipykernel)",
   "language": "python",
   "name": "python3"
  },
  "language_info": {
   "codemirror_mode": {
    "name": "ipython",
    "version": 3
   },
   "file_extension": ".py",
   "mimetype": "text/x-python",
   "name": "python",
   "nbconvert_exporter": "python",
   "pygments_lexer": "ipython3",
   "version": "3.11.7"
  }
 },
 "nbformat": 4,
 "nbformat_minor": 5
}
